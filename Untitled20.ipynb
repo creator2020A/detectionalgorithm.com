{
  "nbformat": 4,
  "nbformat_minor": 0,
  "metadata": {
    "colab": {
      "provenance": [],
      "authorship_tag": "ABX9TyNyg0om0zNcvIUlXK88oQLt",
      "include_colab_link": true
    },
    "kernelspec": {
      "name": "python3",
      "display_name": "Python 3"
    },
    "language_info": {
      "name": "python"
    }
  },
  "cells": [
    {
      "cell_type": "markdown",
      "metadata": {
        "id": "view-in-github",
        "colab_type": "text"
      },
      "source": [
        "<a href=\"https://colab.research.google.com/github/creator2020A/detectionalgorithm.com/blob/main/Untitled20.ipynb\" target=\"_parent\"><img src=\"https://colab.research.google.com/assets/colab-badge.svg\" alt=\"Open In Colab\"/></a>"
      ]
    },
    {
      "cell_type": "code",
      "execution_count": 3,
      "metadata": {
        "colab": {
          "base_uri": "https://localhost:8080/"
        },
        "id": "CUFxD_APe_xA",
        "outputId": "1e2e8891-98d6-4497-fa56-9cb28067c80e"
      },
      "outputs": [
        {
          "output_type": "stream",
          "name": "stdout",
          "text": [
            "Hit:1 https://cloud.r-project.org/bin/linux/ubuntu jammy-cran40/ InRelease\n",
            "Hit:2 http://archive.ubuntu.com/ubuntu jammy InRelease\n",
            "Hit:3 https://cli.github.com/packages stable InRelease\n",
            "Hit:4 http://archive.ubuntu.com/ubuntu jammy-updates InRelease\n",
            "Hit:5 https://developer.download.nvidia.com/compute/cuda/repos/ubuntu2204/x86_64  InRelease\n",
            "Hit:6 http://archive.ubuntu.com/ubuntu jammy-backports InRelease\n",
            "Hit:7 http://security.ubuntu.com/ubuntu jammy-security InRelease\n",
            "Hit:8 https://r2u.stat.illinois.edu/ubuntu jammy InRelease\n",
            "Hit:9 https://ppa.launchpadcontent.net/deadsnakes/ppa/ubuntu jammy InRelease\n",
            "Hit:10 https://ppa.launchpadcontent.net/graphics-drivers/ppa/ubuntu jammy InRelease\n",
            "Hit:11 https://ppa.launchpadcontent.net/ubuntugis/ppa/ubuntu jammy InRelease\n",
            "Reading package lists... Done\n",
            "W: Skipping acquire of configured file 'main/source/Sources' as repository 'https://r2u.stat.illinois.edu/ubuntu jammy InRelease' does not seem to provide it (sources.list entry misspelt?)\n",
            "Reading package lists... Done\n",
            "Building dependency tree... Done\n",
            "Reading state information... Done\n",
            "pkg-config is already the newest version (0.29.2-1ubuntu3).\n",
            "curl is already the newest version (7.81.0-1ubuntu1.21).\n",
            "git is already the newest version (1:2.34.1-1ubuntu1.15).\n",
            "The following packages were automatically installed and are no longer required:\n",
            "  libbz2-dev libpkgconf3 libreadline-dev\n",
            "Use 'sudo apt autoremove' to remove them.\n",
            "0 upgraded, 0 newly installed, 0 to remove and 40 not upgraded.\n",
            "\u001b[1minfo:\u001b[0m downloading installer\n",
            "\u001b[1minfo: \u001b[mdefault toolchain set to 'stable'\n",
            "Lean (version 4.23.0, x86_64-unknown-linux-gnu, commit 50aaf682e9b74ab92880292a25c68baa1cc81c87, Release)\n",
            "Lake version 5.0.0-src+50aaf68 (Lean version 4.23.0)\n"
          ]
        }
      ],
      "source": [
        "!sudo apt-get update -y\n",
        "!sudo apt-get install -y git curl pkg-config\n",
        "\n",
        "# install elan (Lean version manager)\n",
        "!curl -sSfL https://raw.githubusercontent.com/leanprover/elan/master/elan-init.sh | sh -s -- -y\n",
        "!source $HOME/.elan/env\n",
        "\n",
        "# check installation\n",
        "!~/.elan/bin/lean --version\n",
        "!~/.elan/bin/lake --version\n"
      ]
    },
    {
      "cell_type": "code",
      "source": [
        "# Use the Lean toolchain you just installed\n",
        "!export PATH=\"$HOME/.elan/bin:$PATH\" && \\\n",
        "  lake new dbvr-nse math && \\\n",
        "  cd dbvr-nse && \\\n",
        "  lake exe cache get || true && \\\n",
        "  lake build\n"
      ],
      "metadata": {
        "colab": {
          "base_uri": "https://localhost:8080/"
        },
        "id": "p35fVC0fpPO3",
        "outputId": "f7fb3bc8-8adb-42c7-dbc0-02324b95c04a"
      },
      "execution_count": 4,
      "outputs": [
        {
          "output_type": "stream",
          "name": "stdout",
          "text": [
            "\u001b[1;34minfo:\u001b[m downloading mathlib `lean-toolchain` file\n",
            "\u001b[1;34minfo:\u001b[m dbvr-nse: no previous manifest, creating one from scratch\n",
            "\u001b[1;34minfo:\u001b[m leanprover-community/mathlib: cloning https://github.com/leanprover-community/mathlib4\n",
            "\u001b[1;34minfo:\u001b[m leanprover-community/mathlib: checking out revision '9bee9f3e87d27c69a177d157c346324f65c4db82'\n",
            "\u001b[1;34minfo:\u001b[m toolchain not updated; already up-to-date\n",
            "\u001b[1;34minfo:\u001b[m plausible: cloning https://github.com/leanprover-community/plausible\n",
            "\u001b[1;34minfo:\u001b[m plausible: checking out revision '9f492660e9837df43fd885a2ad05c520da9ff9f5'\n",
            "\u001b[1;34minfo:\u001b[m LeanSearchClient: cloning https://github.com/leanprover-community/LeanSearchClient\n",
            "\u001b[1;34minfo:\u001b[m LeanSearchClient: checking out revision '99657ad92e23804e279f77ea6dbdeebaa1317b98'\n",
            "\u001b[1;34minfo:\u001b[m importGraph: cloning https://github.com/leanprover-community/import-graph\n",
            "\u001b[1;34minfo:\u001b[m importGraph: checking out revision '90f3b0f429411beeeb29bbc248d799c18a2d520d'\n",
            "\u001b[1;34minfo:\u001b[m proofwidgets: cloning https://github.com/leanprover-community/ProofWidgets4\n",
            "\u001b[1;34minfo:\u001b[m proofwidgets: checking out revision '556caed0eadb7901e068131d1be208dd907d07a2'\n",
            "\u001b[1;34minfo:\u001b[m aesop: cloning https://github.com/leanprover-community/aesop\n",
            "\u001b[1;34minfo:\u001b[m aesop: checking out revision '9e8de5716b162ec8983a89711a186d13ff871c22'\n",
            "\u001b[1;34minfo:\u001b[m Qq: cloning https://github.com/leanprover-community/quote4\n",
            "\u001b[1;34minfo:\u001b[m Qq: checking out revision '2e582a44b0150db152bff1c8484eb557fb5340da'\n",
            "\u001b[1;34minfo:\u001b[m batteries: cloning https://github.com/leanprover-community/batteries\n",
            "\u001b[1;34minfo:\u001b[m batteries: checking out revision '6f7d05f4955eb5af9799d828b697251bb2c9c0b8'\n",
            "\u001b[1;34minfo:\u001b[m Cli: cloning https://github.com/leanprover/lean4-cli\n",
            "\u001b[1;34minfo:\u001b[m Cli: checking out revision 'b62fd39acc32da6fb8bb160c82d1bbc3cb3c186e'\n",
            "\u001b[1;34minfo:\u001b[m mathlib: running post-update hooks\n",
            "installing leantar 0.1.15\n",
            "  % Total    % Received % Xferd  Average Speed   Time    Time     Time  Current\n",
            "                                 Dload  Upload   Total   Spent    Left  Speed\n",
            "  0     0    0     0    0     0      0      0 --:--:-- --:--:-- --:--:--     0\n",
            "100 1075k  100 1075k    0     0  1804k      0 --:--:-- --:--:-- --:--:-- 1804k\n",
            "\n",
            "Fetching ProofWidgets cloud release... done!\n",
            "Current branch: HEAD\n",
            "Using cache (Azure) from origin: leanprover-community/mathlib4\n",
            "Attempting to download 7283 file(s) from leanprover-community/mathlib4 cache\n",
            "Downloaded: 7283 file(s) [attempted 7283/7283 = 100%, 1069 KB/s]\n",
            "Decompressing 7283 file(s)\n",
            "Unpacked in 73950 ms\n",
            "Completed successfully!\n",
            "\u001b[1minfo: \u001b[mdownloading https://releases.lean-lang.org/lean4/v4.24.0-rc1/lean-4.24.0-rc1-linux.tar.zst\n",
            "438.4 MiB / 438.4 MiB (100 %)  46.0 MiB/s ETA:   0 s\n",
            "\u001b[1minfo: \u001b[minstalling /root/.elan/toolchains/leanprover--lean4---v4.24.0-rc1\n",
            "Current branch: HEAD\n",
            "Using cache (Azure) from origin: leanprover-community/mathlib4\n",
            "No files to download\n",
            "Decompressing 7283 file(s)\n",
            "Unpacked in 6656 ms\n",
            "Completed successfully!\n",
            "Build completed successfully (4 jobs).\n"
          ]
        }
      ]
    },
    {
      "cell_type": "code",
      "source": [
        "# move into the project folder for subsequent cells\n",
        "%cd dbvr-nse\n"
      ],
      "metadata": {
        "colab": {
          "base_uri": "https://localhost:8080/"
        },
        "id": "sMbmpbi_q84Q",
        "outputId": "cfe8e45d-1a9b-48be-faad-e8ee993a0d77"
      },
      "execution_count": 5,
      "outputs": [
        {
          "output_type": "stream",
          "name": "stdout",
          "text": [
            "/content/dbvr-nse\n"
          ]
        }
      ]
    },
    {
      "cell_type": "code",
      "source": [
        "%%bash\n",
        "cat > DBVR/Core.lean <<'EOF'\n",
        "import Mathlib.Data.Real.Basic\n",
        "import Mathlib.Tactic\n",
        "\n",
        "namespace DBVR\n",
        "\n",
        "/-- Design parameters for DBVR windows (abstract knobs, (W1)-(W4) folded into `admissible`). -/\n",
        "structure Design where\n",
        "  Ω : Nat\n",
        "  Λ : Real\n",
        "  α : Real\n",
        "  a b : Real\n",
        "  admissible : Prop\n",
        "\n",
        "/-- Placeholders we refine later. -/\n",
        "opaque Velocity : Type\n",
        "opaque L : Velocity → Real          -- Lyapunov functional\n",
        "opaque Cres : Velocity → Real       -- resonant quadratic  (∑ w_d C_d[u])\n",
        "opaque Tnonres : Velocity → Real    -- nonresonant transfer\n",
        "\n",
        "end DBVR\n",
        "EOF\n"
      ],
      "metadata": {
        "colab": {
          "base_uri": "https://localhost:8080/",
          "height": 426
        },
        "id": "7M-l10g_rDAi",
        "outputId": "032efd20-69be-4d82-ab8f-783026152104"
      },
      "execution_count": 6,
      "outputs": [
        {
          "output_type": "stream",
          "name": "stderr",
          "text": [
            "bash: line 1: DBVR/Core.lean: No such file or directory\n"
          ]
        },
        {
          "output_type": "error",
          "ename": "CalledProcessError",
          "evalue": "Command 'b\"cat > DBVR/Core.lean <<'EOF'\\nimport Mathlib.Data.Real.Basic\\nimport Mathlib.Tactic\\n\\nnamespace DBVR\\n\\n/-- Design parameters for DBVR windows (abstract knobs, (W1)-(W4) folded into `admissible`). -/\\nstructure Design where\\n  \\xce\\xa9 : Nat\\n  \\xce\\x9b : Real\\n  \\xce\\xb1 : Real\\n  a b : Real\\n  admissible : Prop\\n\\n/-- Placeholders we refine later. -/\\nopaque Velocity : Type\\nopaque L : Velocity \\xe2\\x86\\x92 Real          -- Lyapunov functional\\nopaque Cres : Velocity \\xe2\\x86\\x92 Real       -- resonant quadratic  (\\xe2\\x88\\x91 w_d C_d[u])\\nopaque Tnonres : Velocity \\xe2\\x86\\x92 Real    -- nonresonant transfer\\n\\nend DBVR\\nEOF\\n\"' returned non-zero exit status 1.",
          "traceback": [
            "\u001b[0;31m---------------------------------------------------------------------------\u001b[0m",
            "\u001b[0;31mCalledProcessError\u001b[0m                        Traceback (most recent call last)",
            "\u001b[0;32m/tmp/ipython-input-4028232477.py\u001b[0m in \u001b[0;36m<cell line: 0>\u001b[0;34m()\u001b[0m\n\u001b[0;32m----> 1\u001b[0;31m \u001b[0mget_ipython\u001b[0m\u001b[0;34m(\u001b[0m\u001b[0;34m)\u001b[0m\u001b[0;34m.\u001b[0m\u001b[0mrun_cell_magic\u001b[0m\u001b[0;34m(\u001b[0m\u001b[0;34m'bash'\u001b[0m\u001b[0;34m,\u001b[0m \u001b[0;34m''\u001b[0m\u001b[0;34m,\u001b[0m \u001b[0;34m\"cat > DBVR/Core.lean <<'EOF'\\nimport Mathlib.Data.Real.Basic\\nimport Mathlib.Tactic\\n\\nnamespace DBVR\\n\\n/-- Design parameters for DBVR windows (abstract knobs, (W1)-(W4) folded into `admissible`). -/\\nstructure Design where\\n  Ω : Nat\\n  Λ : Real\\n  α : Real\\n  a b : Real\\n  admissible : Prop\\n\\n/-- Placeholders we refine later. -/\\nopaque Velocity : Type\\nopaque L : Velocity → Real          -- Lyapunov functional\\nopaque Cres : Velocity → Real       -- resonant quadratic  (∑ w_d C_d[u])\\nopaque Tnonres : Velocity → Real    -- nonresonant transfer\\n\\nend DBVR\\nEOF\\n\"\u001b[0m\u001b[0;34m)\u001b[0m\u001b[0;34m\u001b[0m\u001b[0;34m\u001b[0m\u001b[0m\n\u001b[0m",
            "\u001b[0;32m/usr/local/lib/python3.12/dist-packages/google/colab/_shell.py\u001b[0m in \u001b[0;36mrun_cell_magic\u001b[0;34m(self, magic_name, line, cell)\u001b[0m\n\u001b[1;32m    274\u001b[0m     \u001b[0;32mif\u001b[0m \u001b[0mline\u001b[0m \u001b[0;32mand\u001b[0m \u001b[0;32mnot\u001b[0m \u001b[0mcell\u001b[0m\u001b[0;34m:\u001b[0m\u001b[0;34m\u001b[0m\u001b[0;34m\u001b[0m\u001b[0m\n\u001b[1;32m    275\u001b[0m       \u001b[0mcell\u001b[0m \u001b[0;34m=\u001b[0m \u001b[0;34m' '\u001b[0m\u001b[0;34m\u001b[0m\u001b[0;34m\u001b[0m\u001b[0m\n\u001b[0;32m--> 276\u001b[0;31m     \u001b[0;32mreturn\u001b[0m \u001b[0msuper\u001b[0m\u001b[0;34m(\u001b[0m\u001b[0;34m)\u001b[0m\u001b[0;34m.\u001b[0m\u001b[0mrun_cell_magic\u001b[0m\u001b[0;34m(\u001b[0m\u001b[0mmagic_name\u001b[0m\u001b[0;34m,\u001b[0m \u001b[0mline\u001b[0m\u001b[0;34m,\u001b[0m \u001b[0mcell\u001b[0m\u001b[0;34m)\u001b[0m\u001b[0;34m\u001b[0m\u001b[0;34m\u001b[0m\u001b[0m\n\u001b[0m\u001b[1;32m    277\u001b[0m \u001b[0;34m\u001b[0m\u001b[0m\n\u001b[1;32m    278\u001b[0m \u001b[0;34m\u001b[0m\u001b[0m\n",
            "\u001b[0;32m/usr/local/lib/python3.12/dist-packages/IPython/core/interactiveshell.py\u001b[0m in \u001b[0;36mrun_cell_magic\u001b[0;34m(self, magic_name, line, cell)\u001b[0m\n\u001b[1;32m   2471\u001b[0m             \u001b[0;32mwith\u001b[0m \u001b[0mself\u001b[0m\u001b[0;34m.\u001b[0m\u001b[0mbuiltin_trap\u001b[0m\u001b[0;34m:\u001b[0m\u001b[0;34m\u001b[0m\u001b[0;34m\u001b[0m\u001b[0m\n\u001b[1;32m   2472\u001b[0m                 \u001b[0margs\u001b[0m \u001b[0;34m=\u001b[0m \u001b[0;34m(\u001b[0m\u001b[0mmagic_arg_s\u001b[0m\u001b[0;34m,\u001b[0m \u001b[0mcell\u001b[0m\u001b[0;34m)\u001b[0m\u001b[0;34m\u001b[0m\u001b[0;34m\u001b[0m\u001b[0m\n\u001b[0;32m-> 2473\u001b[0;31m                 \u001b[0mresult\u001b[0m \u001b[0;34m=\u001b[0m \u001b[0mfn\u001b[0m\u001b[0;34m(\u001b[0m\u001b[0;34m*\u001b[0m\u001b[0margs\u001b[0m\u001b[0;34m,\u001b[0m \u001b[0;34m**\u001b[0m\u001b[0mkwargs\u001b[0m\u001b[0;34m)\u001b[0m\u001b[0;34m\u001b[0m\u001b[0;34m\u001b[0m\u001b[0m\n\u001b[0m\u001b[1;32m   2474\u001b[0m             \u001b[0;32mreturn\u001b[0m \u001b[0mresult\u001b[0m\u001b[0;34m\u001b[0m\u001b[0;34m\u001b[0m\u001b[0m\n\u001b[1;32m   2475\u001b[0m \u001b[0;34m\u001b[0m\u001b[0m\n",
            "\u001b[0;32m/usr/local/lib/python3.12/dist-packages/IPython/core/magics/script.py\u001b[0m in \u001b[0;36mnamed_script_magic\u001b[0;34m(line, cell)\u001b[0m\n\u001b[1;32m    140\u001b[0m             \u001b[0;32melse\u001b[0m\u001b[0;34m:\u001b[0m\u001b[0;34m\u001b[0m\u001b[0;34m\u001b[0m\u001b[0m\n\u001b[1;32m    141\u001b[0m                 \u001b[0mline\u001b[0m \u001b[0;34m=\u001b[0m \u001b[0mscript\u001b[0m\u001b[0;34m\u001b[0m\u001b[0;34m\u001b[0m\u001b[0m\n\u001b[0;32m--> 142\u001b[0;31m             \u001b[0;32mreturn\u001b[0m \u001b[0mself\u001b[0m\u001b[0;34m.\u001b[0m\u001b[0mshebang\u001b[0m\u001b[0;34m(\u001b[0m\u001b[0mline\u001b[0m\u001b[0;34m,\u001b[0m \u001b[0mcell\u001b[0m\u001b[0;34m)\u001b[0m\u001b[0;34m\u001b[0m\u001b[0;34m\u001b[0m\u001b[0m\n\u001b[0m\u001b[1;32m    143\u001b[0m \u001b[0;34m\u001b[0m\u001b[0m\n\u001b[1;32m    144\u001b[0m         \u001b[0;31m# write a basic docstring:\u001b[0m\u001b[0;34m\u001b[0m\u001b[0;34m\u001b[0m\u001b[0m\n",
            "\u001b[0;32m<decorator-gen-103>\u001b[0m in \u001b[0;36mshebang\u001b[0;34m(self, line, cell)\u001b[0m\n",
            "\u001b[0;32m/usr/local/lib/python3.12/dist-packages/IPython/core/magic.py\u001b[0m in \u001b[0;36m<lambda>\u001b[0;34m(f, *a, **k)\u001b[0m\n\u001b[1;32m    185\u001b[0m     \u001b[0;31m# but it's overkill for just that one bit of state.\u001b[0m\u001b[0;34m\u001b[0m\u001b[0;34m\u001b[0m\u001b[0m\n\u001b[1;32m    186\u001b[0m     \u001b[0;32mdef\u001b[0m \u001b[0mmagic_deco\u001b[0m\u001b[0;34m(\u001b[0m\u001b[0marg\u001b[0m\u001b[0;34m)\u001b[0m\u001b[0;34m:\u001b[0m\u001b[0;34m\u001b[0m\u001b[0;34m\u001b[0m\u001b[0m\n\u001b[0;32m--> 187\u001b[0;31m         \u001b[0mcall\u001b[0m \u001b[0;34m=\u001b[0m \u001b[0;32mlambda\u001b[0m \u001b[0mf\u001b[0m\u001b[0;34m,\u001b[0m \u001b[0;34m*\u001b[0m\u001b[0ma\u001b[0m\u001b[0;34m,\u001b[0m \u001b[0;34m**\u001b[0m\u001b[0mk\u001b[0m\u001b[0;34m:\u001b[0m \u001b[0mf\u001b[0m\u001b[0;34m(\u001b[0m\u001b[0;34m*\u001b[0m\u001b[0ma\u001b[0m\u001b[0;34m,\u001b[0m \u001b[0;34m**\u001b[0m\u001b[0mk\u001b[0m\u001b[0;34m)\u001b[0m\u001b[0;34m\u001b[0m\u001b[0;34m\u001b[0m\u001b[0m\n\u001b[0m\u001b[1;32m    188\u001b[0m \u001b[0;34m\u001b[0m\u001b[0m\n\u001b[1;32m    189\u001b[0m         \u001b[0;32mif\u001b[0m \u001b[0mcallable\u001b[0m\u001b[0;34m(\u001b[0m\u001b[0marg\u001b[0m\u001b[0;34m)\u001b[0m\u001b[0;34m:\u001b[0m\u001b[0;34m\u001b[0m\u001b[0;34m\u001b[0m\u001b[0m\n",
            "\u001b[0;32m/usr/local/lib/python3.12/dist-packages/IPython/core/magics/script.py\u001b[0m in \u001b[0;36mshebang\u001b[0;34m(self, line, cell)\u001b[0m\n\u001b[1;32m    243\u001b[0m             \u001b[0msys\u001b[0m\u001b[0;34m.\u001b[0m\u001b[0mstderr\u001b[0m\u001b[0;34m.\u001b[0m\u001b[0mflush\u001b[0m\u001b[0;34m(\u001b[0m\u001b[0;34m)\u001b[0m\u001b[0;34m\u001b[0m\u001b[0;34m\u001b[0m\u001b[0m\n\u001b[1;32m    244\u001b[0m         \u001b[0;32mif\u001b[0m \u001b[0margs\u001b[0m\u001b[0;34m.\u001b[0m\u001b[0mraise_error\u001b[0m \u001b[0;32mand\u001b[0m \u001b[0mp\u001b[0m\u001b[0;34m.\u001b[0m\u001b[0mreturncode\u001b[0m\u001b[0;34m!=\u001b[0m\u001b[0;36m0\u001b[0m\u001b[0;34m:\u001b[0m\u001b[0;34m\u001b[0m\u001b[0;34m\u001b[0m\u001b[0m\n\u001b[0;32m--> 245\u001b[0;31m             \u001b[0;32mraise\u001b[0m \u001b[0mCalledProcessError\u001b[0m\u001b[0;34m(\u001b[0m\u001b[0mp\u001b[0m\u001b[0;34m.\u001b[0m\u001b[0mreturncode\u001b[0m\u001b[0;34m,\u001b[0m \u001b[0mcell\u001b[0m\u001b[0;34m,\u001b[0m \u001b[0moutput\u001b[0m\u001b[0;34m=\u001b[0m\u001b[0mout\u001b[0m\u001b[0;34m,\u001b[0m \u001b[0mstderr\u001b[0m\u001b[0;34m=\u001b[0m\u001b[0merr\u001b[0m\u001b[0;34m)\u001b[0m\u001b[0;34m\u001b[0m\u001b[0;34m\u001b[0m\u001b[0m\n\u001b[0m\u001b[1;32m    246\u001b[0m \u001b[0;34m\u001b[0m\u001b[0m\n\u001b[1;32m    247\u001b[0m     \u001b[0;32mdef\u001b[0m \u001b[0m_run_script\u001b[0m\u001b[0;34m(\u001b[0m\u001b[0mself\u001b[0m\u001b[0;34m,\u001b[0m \u001b[0mp\u001b[0m\u001b[0;34m,\u001b[0m \u001b[0mcell\u001b[0m\u001b[0;34m,\u001b[0m \u001b[0mto_close\u001b[0m\u001b[0;34m)\u001b[0m\u001b[0;34m:\u001b[0m\u001b[0;34m\u001b[0m\u001b[0;34m\u001b[0m\u001b[0m\n",
            "\u001b[0;31mCalledProcessError\u001b[0m: Command 'b\"cat > DBVR/Core.lean <<'EOF'\\nimport Mathlib.Data.Real.Basic\\nimport Mathlib.Tactic\\n\\nnamespace DBVR\\n\\n/-- Design parameters for DBVR windows (abstract knobs, (W1)-(W4) folded into `admissible`). -/\\nstructure Design where\\n  \\xce\\xa9 : Nat\\n  \\xce\\x9b : Real\\n  \\xce\\xb1 : Real\\n  a b : Real\\n  admissible : Prop\\n\\n/-- Placeholders we refine later. -/\\nopaque Velocity : Type\\nopaque L : Velocity \\xe2\\x86\\x92 Real          -- Lyapunov functional\\nopaque Cres : Velocity \\xe2\\x86\\x92 Real       -- resonant quadratic  (\\xe2\\x88\\x91 w_d C_d[u])\\nopaque Tnonres : Velocity \\xe2\\x86\\x92 Real    -- nonresonant transfer\\n\\nend DBVR\\nEOF\\n\"' returned non-zero exit status 1."
          ]
        }
      ]
    },
    {
      "cell_type": "code",
      "source": [
        "%cd /content/dbvr-nse\n",
        "!pwd\n",
        "!ls -la\n"
      ],
      "metadata": {
        "colab": {
          "base_uri": "https://localhost:8080/"
        },
        "id": "acpP5uXdsiZc",
        "outputId": "2e5790ad-603c-4c29-8979-b9436f77a36b"
      },
      "execution_count": 7,
      "outputs": [
        {
          "output_type": "stream",
          "name": "stdout",
          "text": [
            "/content/dbvr-nse\n",
            "/content/dbvr-nse\n",
            "total 48\n",
            "drwxr-xr-x 6 root root 4096 Oct  4 23:55 .\n",
            "drwxr-xr-x 1 root root 4096 Oct  4 23:53 ..\n",
            "drwxr-xr-x 2 root root 4096 Oct  4 23:53 DbvrNse\n",
            "-rw-r--r-- 1 root root   21 Oct  4 23:53 DbvrNse.lean\n",
            "drwxr-xr-x 7 root root 4096 Oct  4 23:53 .git\n",
            "drwxr-xr-x 3 root root 4096 Oct  4 23:53 .github\n",
            "-rw-r--r-- 1 root root    7 Oct  4 23:53 .gitignore\n",
            "drwxr-xr-x 4 root root 4096 Oct  4 23:57 .lake\n",
            "-rw-r--r-- 1 root root  356 Oct  4 23:53 lakefile.toml\n",
            "-rw-r--r-- 1 root root 3119 Oct  4 23:55 lake-manifest.json\n",
            "-rw-r--r-- 1 root root   29 Oct  4 23:53 lean-toolchain\n",
            "-rw-r--r-- 1 root root  485 Oct  4 23:53 README.md\n"
          ]
        }
      ]
    },
    {
      "cell_type": "code",
      "source": [
        "!mkdir -p DBVR\n"
      ],
      "metadata": {
        "id": "0QtpUiD0stVE"
      },
      "execution_count": 8,
      "outputs": []
    },
    {
      "cell_type": "code",
      "source": [
        "%%bash\n",
        "cat > DBVR/Core.lean <<'EOF'\n",
        "import Mathlib.Data.Real.Basic\n",
        "import Mathlib.Tactic\n",
        "\n",
        "namespace DBVR\n",
        "\n",
        "structure Design where\n",
        "  Ω : Nat\n",
        "  Λ : Real\n",
        "  α : Real\n",
        "  a b : Real\n",
        "  admissible : Prop\n",
        "\n",
        "opaque Velocity : Type\n",
        "opaque L : Velocity → Real\n",
        "opaque Cres : Velocity → Real\n",
        "opaque Tnonres : Velocity → Real\n",
        "\n",
        "end DBVR\n",
        "EOF\n"
      ],
      "metadata": {
        "id": "Kkq6eEOSs21E"
      },
      "execution_count": 9,
      "outputs": []
    },
    {
      "cell_type": "code",
      "source": [
        "%%bash\n",
        "cat > DBVR/Resonant.lean <<'EOF'\n",
        "import Mathlib.Data.Real.Basic\n",
        "\n",
        "namespace DBVR\n",
        "\n",
        "def Γmin (d : Nat) : Real :=\n",
        "  if 1 ≤ d ∧ d ≤ 8 then 2 * (1 - Real.cos (d.toReal * Real.pi / 10)) else 0\n",
        "\n",
        "axiom w : Nat → Real\n",
        "axiom w_nonneg : ∀ d, 0 ≤ w d\n",
        "\n",
        "def λstar : Real :=\n",
        "  (List.range 9).drop 1 |>.foldl (fun s d => s + (w d) * (Γmin d)) 0\n",
        "\n",
        "opaque Velocity : Type\n",
        "opaque Cres : Velocity → Real\n",
        "axiom H3_resonant : ∀ u : Velocity, 0 ≤ Cres u\n",
        "\n",
        "end DBVR\n",
        "EOF\n"
      ],
      "metadata": {
        "id": "OrQy5khhs6xV"
      },
      "execution_count": 10,
      "outputs": []
    },
    {
      "cell_type": "code",
      "source": [
        "%%bash\n",
        "cat > DBVR/Lyapunov.lean <<'EOF'\n",
        "import DBVR.Core\n",
        "import DBVR.Resonant\n",
        "import DBVR.NonResCM\n",
        "import DBVR.Spectrum\n",
        "\n",
        "namespace DBVR\n",
        "\n",
        "opaque dLdt : Velocity → Real\n",
        "\n",
        "axiom Lyapunov_drop\n",
        "  (W : Design)\n",
        "  (hH3 : ∀ u, 0 ≤ Cres u)\n",
        "  (hH2 : ∀ u, Tnonres u ≤ (C_CM W) * L u)\n",
        "  (hM  : Margin λstar (C_CM W)) :\n",
        "  ∃ δ > 0, ∀ u : Velocity, dLdt u ≤ - δ * L u\n",
        "\n",
        "end DBVR\n",
        "EOF\n"
      ],
      "metadata": {
        "id": "dIXOukG5tSMj"
      },
      "execution_count": 13,
      "outputs": []
    },
    {
      "cell_type": "code",
      "source": [
        "%%bash\n",
        "cat > DBVR/NonResCM.lean <<'EOF'\n",
        "import DBVR.Core\n",
        "\n",
        "namespace DBVR\n",
        "\n",
        "axiom C_CM : Design → Real\n",
        "axiom C_CM_nonneg : ∀ W, 0 ≤ C_CM W\n",
        "axiom H2_nonres : ∀ (W : Design) (u : Velocity), Tnonres u ≤ (C_CM W) * (L u)\n",
        "\n",
        "end DBVR\n",
        "EOF\n"
      ],
      "metadata": {
        "id": "r0xILhhOtAtr"
      },
      "execution_count": 11,
      "outputs": []
    },
    {
      "cell_type": "code",
      "source": [
        "%%bash\n",
        "cat > DBVR/Spectrum.lean <<'EOF'\n",
        "namespace DBVR\n",
        "def Margin (λstar Ccm : Real) : Prop := λstar > 2 * Ccm\n",
        "end DBVR\n",
        "EOF\n"
      ],
      "metadata": {
        "id": "BXLJFOGKtLqd"
      },
      "execution_count": 12,
      "outputs": []
    },
    {
      "cell_type": "code",
      "source": [
        "%%bash\n",
        "cat > DBVR/Existential.lean <<'EOF'\n",
        "import DBVR.Core\n",
        "import DBVR.NonResCM\n",
        "import DBVR.Resonant\n",
        "import DBVR.Spectrum\n",
        "\n",
        "namespace DBVR\n",
        "\n",
        "axiom W : Real → Design\n",
        "axiom W_domain : ∀ τ, 1 ≤ τ\n",
        "axiom λstar_uniform : True\n",
        "axiom C_CM_tends_to_zero : True\n",
        "axiom existential_margin : ∃ τ0 ≥ 1, Margin λstar (C_CM (W τ0))\n",
        "\n",
        "end DBVR\n",
        "EOF\n"
      ],
      "metadata": {
        "id": "laqA0stDtdEa"
      },
      "execution_count": 14,
      "outputs": []
    },
    {
      "cell_type": "code",
      "source": [
        "%%bash\n",
        "cat > Main.lean <<'EOF'\n",
        "import DBVR.Core\n",
        "import DBVR.Resonant\n",
        "import DBVR.NonResCM\n",
        "import DBVR.Spectrum\n",
        "import DBVR.Lyapunov\n",
        "import DBVR.Existential\n",
        "\n",
        "open DBVR\n",
        "\n",
        "theorem GlobalRegularity_Spine :\n",
        "  ∃ τ0 ≥ 1, ∃ δ > 0, ∀ u : Velocity, dLdt u ≤ - δ * L u := by\n",
        "  rcases existential_margin with ⟨τ0, hτ0, hM⟩\n",
        "  have hH3 : ∀ u, 0 ≤ Cres u := by intro u; simpa using H3_resonant u\n",
        "  have hH2 : ∀ u, Tnonres u ≤ (C_CM (W τ0)) * L u := by\n",
        "    intro u; simpa using H2_nonres (W τ0) u\n",
        "  rcases Lyapunov_drop (W τ0) hH3 hH2 hM with ⟨δ, hδpos, hdrop⟩\n",
        "  exact ⟨τ0, hτ0, δ, hδpos, hdrop⟩\n",
        "EOF\n"
      ],
      "metadata": {
        "id": "IZ0LMbtctjrZ"
      },
      "execution_count": 15,
      "outputs": []
    },
    {
      "cell_type": "code",
      "source": [
        "!export PATH=\"$HOME/.elan/bin:$PATH\" && lake build\n"
      ],
      "metadata": {
        "colab": {
          "base_uri": "https://localhost:8080/"
        },
        "id": "V3yNatBYtphh",
        "outputId": "4e9cd45d-a220-4256-b497-a5d7cfc7a490"
      },
      "execution_count": 16,
      "outputs": [
        {
          "output_type": "stream",
          "name": "stdout",
          "text": [
            "⣾ [0/0] Running job computation\u001b[2K\rBuild completed successfully (4 jobs).\n"
          ]
        }
      ]
    },
    {
      "cell_type": "code",
      "source": [
        "-- tests/Sanity.lean\n",
        "import Main\n",
        "#check GlobalRegularity_Spine\n"
      ],
      "metadata": {
        "colab": {
          "base_uri": "https://localhost:8080/",
          "height": 176
        },
        "id": "k_jm1iwZuw-5",
        "outputId": "f1131252-ee77-4813-c398-ceea25821b56"
      },
      "execution_count": 17,
      "outputs": [
        {
          "output_type": "error",
          "ename": "NameError",
          "evalue": "name 'tests' is not defined",
          "traceback": [
            "\u001b[0;31m---------------------------------------------------------------------------\u001b[0m",
            "\u001b[0;31mNameError\u001b[0m                                 Traceback (most recent call last)",
            "\u001b[0;32m/tmp/ipython-input-3703060249.py\u001b[0m in \u001b[0;36m<cell line: 0>\u001b[0;34m()\u001b[0m\n\u001b[0;32m----> 1\u001b[0;31m \u001b[0;34m-\u001b[0m\u001b[0;34m-\u001b[0m \u001b[0mtests\u001b[0m\u001b[0;34m/\u001b[0m\u001b[0mSanity\u001b[0m\u001b[0;34m.\u001b[0m\u001b[0mlean\u001b[0m\u001b[0;34m\u001b[0m\u001b[0;34m\u001b[0m\u001b[0m\n\u001b[0m\u001b[1;32m      2\u001b[0m \u001b[0;32mimport\u001b[0m \u001b[0mMain\u001b[0m\u001b[0;34m\u001b[0m\u001b[0;34m\u001b[0m\u001b[0m\n\u001b[1;32m      3\u001b[0m \u001b[0;31m#check GlobalRegularity_Spine\u001b[0m\u001b[0;34m\u001b[0m\u001b[0;34m\u001b[0m\u001b[0m\n",
            "\u001b[0;31mNameError\u001b[0m: name 'tests' is not defined"
          ]
        }
      ]
    },
    {
      "cell_type": "code",
      "source": [
        "%cd /content/dbvr-nse\n",
        "!pwd\n"
      ],
      "metadata": {
        "colab": {
          "base_uri": "https://localhost:8080/"
        },
        "id": "rEsdC88gvRaO",
        "outputId": "a69cb2b0-1cbf-4bba-bffa-259e5ef61132"
      },
      "execution_count": 18,
      "outputs": [
        {
          "output_type": "stream",
          "name": "stdout",
          "text": [
            "/content/dbvr-nse\n",
            "/content/dbvr-nse\n"
          ]
        }
      ]
    },
    {
      "cell_type": "code",
      "source": [
        "!mkdir -p tests\n"
      ],
      "metadata": {
        "id": "sN868bdkvVDD"
      },
      "execution_count": 19,
      "outputs": []
    },
    {
      "cell_type": "code",
      "source": [
        "%%bash\n",
        "cat > tests/Sanity.lean <<'EOF'\n",
        "import Main\n",
        "#check GlobalRegularity_Spine\n",
        "EOF\n"
      ],
      "metadata": {
        "id": "NArWflcYvaOm"
      },
      "execution_count": 20,
      "outputs": []
    },
    {
      "cell_type": "code",
      "source": [
        "!export PATH=\"$HOME/.elan/bin:$PATH\" && lake build\n"
      ],
      "metadata": {
        "colab": {
          "base_uri": "https://localhost:8080/"
        },
        "id": "Sp2GgKR1vgyQ",
        "outputId": "d42164b4-80a5-4e7e-a195-be42b1e531c5"
      },
      "execution_count": 21,
      "outputs": [
        {
          "output_type": "stream",
          "name": "stdout",
          "text": [
            "⣾ [0/0] Running job computation (+ 0 more)\u001b[2K\rBuild completed successfully (4 jobs).\n"
          ]
        }
      ]
    }
  ]
}